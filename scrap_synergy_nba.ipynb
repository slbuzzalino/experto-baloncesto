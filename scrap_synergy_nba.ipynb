{
 "cells": [
  {
   "cell_type": "code",
   "execution_count": null,
   "id": "acquired-grounds",
   "metadata": {},
   "outputs": [],
   "source": [
    "# Instalar nba_api\n",
    "pip install nba_api"
   ]
  },
  {
   "cell_type": "code",
   "execution_count": null,
   "id": "ready-allergy",
   "metadata": {},
   "outputs": [],
   "source": [
    "# Importar librerías\n",
    "import pandas as pd\n",
    "import numpy as np\n",
    "import requests\n",
    "from nba_api.stats import endpoints"
   ]
  },
  {
   "cell_type": "code",
   "execution_count": null,
   "id": "everyday-consciousness",
   "metadata": {},
   "outputs": [],
   "source": [
    "# Tipos de jugadas que interesan\n",
    "playTypes = ['Cut',\n",
    "             'Handoff',\n",
    "             'Isolation',\n",
    "             'Misc',\n",
    "             'OffScreen',\n",
    "             'Postup',\n",
    "             'PRBallHandler',\n",
    "             'PRRollman',\n",
    "             'OffRebound',\n",
    "             'Spotup',\n",
    "             'Transition']\n",
    "\n",
    "# Temporadas\n",
    "season = ['2018-19','2019-20','2020-21']\n",
    "\n",
    "# Ofensiva o Defensiva\n",
    "group = ['Defensive','Offensive']\n",
    "\n",
    "# columnas del df\n",
    "dictColumns = ['SEASON_ID',\n",
    " 'PLAYER_ID',\n",
    " 'PLAYER_NAME',\n",
    " 'TEAM_ID',\n",
    " 'TEAM_ABBREVIATION',\n",
    " 'TEAM_NAME',\n",
    " 'PLAY_TYPE',\n",
    " 'TYPE_GROUPING',\n",
    " 'PERCENTILE',\n",
    " 'GP',\n",
    " 'POSS_PCT',\n",
    " 'PPP',\n",
    " 'FG_PCT',\n",
    " 'FT_POSS_PCT',\n",
    " 'TOV_POSS_PCT',\n",
    " 'SF_POSS_PCT',\n",
    " 'PLUSONE_POSS_PCT',\n",
    " 'SCORE_POSS_PCT',\n",
    " 'EFG_PCT',\n",
    " 'POSS',\n",
    " 'PTS',\n",
    " 'FGM',\n",
    " 'FGA',\n",
    " 'FGMX']\n",
    "\n",
    "df = pd.DataFrame(columns=dictColumns)\n",
    "\n",
    "for sea in season:\n",
    "    #print(sea)\n",
    "\n",
    "    for play_type in playTypes:\n",
    "        #print(play_type)\n",
    "        \n",
    "        for gr in group:\n",
    "            print(gr)\n",
    "            response = endpoints.SynergyPlayTypes(play_type_nullable=play_type, \n",
    "                                      player_or_team_abbreviation='P', \n",
    "                                      type_grouping_nullable=gr,\n",
    "                                      season=sea)\n",
    "\n",
    "            dictData = response.get_dict()['resultSets'][0]['rowSet']\n",
    "            df_type = pd.DataFrame.from_dict(dictData)\n",
    "            \n",
    "            for i in df_type.columns:\n",
    "                df_type = df_type.rename(columns={i:dictColumns[i]})\n",
    "            \n",
    "            df = df.append(df_type, ignore_index=True)\n",
    "        #print(\"---\")"
   ]
  },
  {
   "cell_type": "code",
   "execution_count": null,
   "id": "european-spyware",
   "metadata": {},
   "outputs": [],
   "source": [
    "df.to_clipboard(index=False)"
   ]
  }
 ],
 "metadata": {
  "kernelspec": {
   "display_name": "Python 3",
   "language": "python",
   "name": "python3"
  },
  "language_info": {
   "codemirror_mode": {
    "name": "ipython",
    "version": 3
   },
   "file_extension": ".py",
   "mimetype": "text/x-python",
   "name": "python",
   "nbconvert_exporter": "python",
   "pygments_lexer": "ipython3",
   "version": "3.7.10"
  }
 },
 "nbformat": 4,
 "nbformat_minor": 5
}
